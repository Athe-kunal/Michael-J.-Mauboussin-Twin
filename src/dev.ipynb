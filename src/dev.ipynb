{
 "cells": [
  {
   "cell_type": "code",
   "execution_count": 1,
   "metadata": {},
   "outputs": [],
   "source": [
    "import requests\n",
    "from bs4 import BeautifulSoup\n",
    "\n",
    "URL = \"https://www.michaelmauboussin.com/writing\"\n",
    "\n",
    "response = requests.get(URL)\n",
    "soup = BeautifulSoup(response.text, 'html.parser')"
   ]
  },
  {
   "cell_type": "code",
   "execution_count": 6,
   "metadata": {},
   "outputs": [
    {
     "name": "stdout",
     "output_type": "stream",
     "text": [
      "<div class=\"sqs-html-content\">\n",
      "<ul data-rte-list=\"default\"><li><pre><code><a href=\"https://mjbaldbard.files.wordpress.com/2020/09/michael-mauboussin-e28093-research-articles-and-interviews-1995-2004.pdf\">Research, Articles and Interviews (1995-2004)</a> </code></pre></li><li><pre><code><a href=\"https://mjbaldbard.files.wordpress.com/2020/09/michael-mauboussin-e28093-research-articles-and-interviews-2005-2011.pdf\">Research, Articles and Interviews (2005-2011)</a> </code></pre></li><li><pre><code><a href=\"https://mjbaldbard.files.wordpress.com/2020/09/michael-mauboussin-e28093-research-articles-and-interviews-2012-2013.pdf\">Research, Articles and Interviews (2012-2013)</a> </code></pre></li><li><pre><code><a href=\"https://mjbaldbard.files.wordpress.com/2020/09/michael-mauboussin-e28093-research-articles-and-interviews-2014.pdf\">Research, Articles and Interviews (2014)</a> </code></pre></li><li><pre><code><a href=\"https://mjbaldbard.files.wordpress.com/2020/09/michael-mauboussin-e28093-base-rate-books-2015-2016.pdf\">Base Rate Books (2015-2016)</a> </code></pre></li><li><pre><code><a href=\"https://mjbaldbard.files.wordpress.com/2020/09/michael-mauboussin-e28093-research-articles-and-interviews-2015-2016.pdf\">Research, Articles and Interviews (2015-2016) </a></code></pre></li><li><pre><code><a href=\"https://mjbaldbard.files.wordpress.com/2020/09/michael-mauboussin-e28093-research-articles-and-interviews-2016.pdf\">Research, Articles and Interviews (2016)</a> </code></pre></li><li><pre><code><a href=\"https://mjbaldbard.files.wordpress.com/2020/09/michael-mauboussin-e28093-research-articles-and-interviews-2017-2020-1.pdf\">Research, Articles and Interviews (2017-2020)</a> </code></pre></li><li><pre><code><a href=\"https://www.morganstanley.com/im/en-us/financial-advisor/insights/series/consilient-observer.html\">The Consilient Observer (2020 - present)</a> </code></pre><p class=\"sqsrte-small\" style=\"white-space:pre-wrap;\"><br/>*Thanks to <a href=\"https://mjbaldbard.Wordpress.com\">Mayur Jain</a> for assembling these materials (View him on <a href=\"https://twitter.com/mjbaldbard\">Twitter</a>)</p></li></ul><p class=\"\" data-rte-preserve-empty=\"true\" style=\"white-space:pre-wrap;\"></p>\n",
      "</div>\n"
     ]
    }
   ],
   "source": [
    "data = soup.find_all(class_=\"sqs-html-content\")[-2]\n",
    "print(data)"
   ]
  },
  {
   "cell_type": "code",
   "execution_count": 15,
   "metadata": {},
   "outputs": [
    {
     "data": {
      "text/plain": [
       "bs4.element.Tag"
      ]
     },
     "execution_count": 15,
     "metadata": {},
     "output_type": "execute_result"
    }
   ],
   "source": [
    "type(data.find_all('a')[1])"
   ]
  },
  {
   "cell_type": "code",
   "execution_count": 17,
   "metadata": {},
   "outputs": [
    {
     "data": {
      "text/plain": [
       "'Research, Articles and Interviews (2005-2011)'"
      ]
     },
     "execution_count": 17,
     "metadata": {},
     "output_type": "execute_result"
    }
   ],
   "source": [
    "data.find_all('a')[1].text"
   ]
  },
  {
   "cell_type": "code",
   "execution_count": null,
   "metadata": {},
   "outputs": [],
   "source": [
    "# https://www.morganstanley.com/im/publication/insights/articles/article_chartsfromthevaultpicturestoponder.pdf?1736712102328\n",
    "# https://www.morganstanley.com/im/publication/insights/articles/article_measuringthemoat.pdf?1736712206119"
   ]
  }
 ],
 "metadata": {
  "kernelspec": {
   "display_name": ".venv",
   "language": "python",
   "name": "python3"
  },
  "language_info": {
   "codemirror_mode": {
    "name": "ipython",
    "version": 3
   },
   "file_extension": ".py",
   "mimetype": "text/x-python",
   "name": "python",
   "nbconvert_exporter": "python",
   "pygments_lexer": "ipython3",
   "version": "3.13.1"
  }
 },
 "nbformat": 4,
 "nbformat_minor": 2
}
