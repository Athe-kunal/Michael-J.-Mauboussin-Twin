{
 "cells": [
  {
   "cell_type": "code",
   "execution_count": 1,
   "metadata": {},
   "outputs": [],
   "source": [
    "import requests\n",
    "from bs4 import BeautifulSoup\n",
    "\n",
    "URL = \"https://www.michaelmauboussin.com/writing\"\n",
    "\n",
    "response = requests.get(URL)\n",
    "soup = BeautifulSoup(response.text, 'html.parser')"
   ]
  },
  {
   "cell_type": "code",
   "execution_count": 6,
   "metadata": {},
   "outputs": [
    {
     "name": "stdout",
     "output_type": "stream",
     "text": [
      "<div class=\"sqs-html-content\">\n",
      "<ul data-rte-list=\"default\"><li><pre><code><a href=\"https://mjbaldbard.files.wordpress.com/2020/09/michael-mauboussin-e28093-research-articles-and-interviews-1995-2004.pdf\">Research, Articles and Interviews (1995-2004)</a> </code></pre></li><li><pre><code><a href=\"https://mjbaldbard.files.wordpress.com/2020/09/michael-mauboussin-e28093-research-articles-and-interviews-2005-2011.pdf\">Research, Articles and Interviews (2005-2011)</a> </code></pre></li><li><pre><code><a href=\"https://mjbaldbard.files.wordpress.com/2020/09/michael-mauboussin-e28093-research-articles-and-interviews-2012-2013.pdf\">Research, Articles and Interviews (2012-2013)</a> </code></pre></li><li><pre><code><a href=\"https://mjbaldbard.files.wordpress.com/2020/09/michael-mauboussin-e28093-research-articles-and-interviews-2014.pdf\">Research, Articles and Interviews (2014)</a> </code></pre></li><li><pre><code><a href=\"https://mjbaldbard.files.wordpress.com/2020/09/michael-mauboussin-e28093-base-rate-books-2015-2016.pdf\">Base Rate Books (2015-2016)</a> </code></pre></li><li><pre><code><a href=\"https://mjbaldbard.files.wordpress.com/2020/09/michael-mauboussin-e28093-research-articles-and-interviews-2015-2016.pdf\">Research, Articles and Interviews (2015-2016) </a></code></pre></li><li><pre><code><a href=\"https://mjbaldbard.files.wordpress.com/2020/09/michael-mauboussin-e28093-research-articles-and-interviews-2016.pdf\">Research, Articles and Interviews (2016)</a> </code></pre></li><li><pre><code><a href=\"https://mjbaldbard.files.wordpress.com/2020/09/michael-mauboussin-e28093-research-articles-and-interviews-2017-2020-1.pdf\">Research, Articles and Interviews (2017-2020)</a> </code></pre></li><li><pre><code><a href=\"https://www.morganstanley.com/im/en-us/financial-advisor/insights/series/consilient-observer.html\">The Consilient Observer (2020 - present)</a> </code></pre><p class=\"sqsrte-small\" style=\"white-space:pre-wrap;\"><br/>*Thanks to <a href=\"https://mjbaldbard.Wordpress.com\">Mayur Jain</a> for assembling these materials (View him on <a href=\"https://twitter.com/mjbaldbard\">Twitter</a>)</p></li></ul><p class=\"\" data-rte-preserve-empty=\"true\" style=\"white-space:pre-wrap;\"></p>\n",
      "</div>\n"
     ]
    }
   ],
   "source": [
    "data = soup.find_all(class_=\"sqs-html-content\")[-2]\n",
    "print(data)"
   ]
  },
  {
   "cell_type": "code",
   "execution_count": 15,
   "metadata": {},
   "outputs": [
    {
     "data": {
      "text/plain": [
       "bs4.element.Tag"
      ]
     },
     "execution_count": 15,
     "metadata": {},
     "output_type": "execute_result"
    }
   ],
   "source": [
    "type(data.find_all('a')[1])"
   ]
  },
  {
   "cell_type": "code",
   "execution_count": 17,
   "metadata": {},
   "outputs": [
    {
     "data": {
      "text/plain": [
       "'Research, Articles and Interviews (2005-2011)'"
      ]
     },
     "execution_count": 17,
     "metadata": {},
     "output_type": "execute_result"
    }
   ],
   "source": [
    "data.find_all('a')[1].text"
   ]
  },
  {
   "cell_type": "code",
   "execution_count": null,
   "metadata": {},
   "outputs": [],
   "source": [
    "# https://www.morganstanley.com/im/publication/insights/articles/article_chartsfromthevaultpicturestoponder.pdf?1736712102328\n",
    "# https://www.morganstanley.com/im/publication/insights/articles/article_measuringthemoat.pdf?1736712206119"
   ]
  },
  {
   "cell_type": "code",
   "execution_count": null,
   "metadata": {},
   "outputs": [],
   "source": [
    "# col-md-8 col-sm-12 col-xs-12\n",
    "\n"
   ]
  },
  {
   "cell_type": "code",
   "execution_count": 1,
   "metadata": {},
   "outputs": [],
   "source": [
    "from selenium import webdriver\n",
    "from webdriver_manager.chrome import ChromeDriverManager\n",
    "from selenium.webdriver.chrome.service import Service\n",
    "from selenium.webdriver.common.by import By\n",
    "\n",
    "driver = webdriver.Chrome(service=Service(ChromeDriverManager().install()))"
   ]
  },
  {
   "cell_type": "code",
   "execution_count": 2,
   "metadata": {},
   "outputs": [
    {
     "data": {
      "text/plain": [
       "selenium.webdriver.chrome.webdriver.WebDriver"
      ]
     },
     "execution_count": 2,
     "metadata": {},
     "output_type": "execute_result"
    }
   ],
   "source": [
    "type(driver)"
   ]
  },
  {
   "cell_type": "code",
   "execution_count": 3,
   "metadata": {},
   "outputs": [],
   "source": [
    "URL = \"https://www.morganstanley.com/im/en-us/financial-advisor/insights/series/consilient-observer.html\"\n",
    "\n",
    "driver.get(URL)"
   ]
  },
  {
   "cell_type": "code",
   "execution_count": 4,
   "metadata": {},
   "outputs": [],
   "source": [
    "driver.maximize_window()"
   ]
  },
  {
   "cell_type": "code",
   "execution_count": 6,
   "metadata": {},
   "outputs": [],
   "source": [
    "driver.close()"
   ]
  },
  {
   "cell_type": "code",
   "execution_count": 46,
   "metadata": {},
   "outputs": [],
   "source": [
    "# Get all article links\n",
    "articles = driver.find_elements(By.CSS_SELECTOR, \".series-detail-articles a\")\n",
    "\n",
    "# Create a set to track unique URLs\n",
    "seen_urls = set()\n",
    "\n",
    "for article in articles:\n",
    "    url = article.get_attribute('href')\n",
    "    # Only open if we haven't seen this URL before\n",
    "    if url not in seen_urls:\n",
    "        # Open in new tab using JavaScript since it handles dynamic content better\n",
    "        driver.execute_script(\"window.open(arguments[0], '_blank');\", url)\n",
    "        seen_urls.add(url)"
   ]
  },
  {
   "cell_type": "code",
   "execution_count": 48,
   "metadata": {},
   "outputs": [],
   "source": [
    "# Switch to each tab and close it\n",
    "tabs = driver.window_handles\n",
    "driver.switch_to.window(driver.window_handles[0])\n",
    "driver.close()"
   ]
  },
  {
   "cell_type": "code",
   "execution_count": 49,
   "metadata": {},
   "outputs": [],
   "source": [
    "driver.switch_to.window(driver.window_handles[0])"
   ]
  },
  {
   "cell_type": "code",
   "execution_count": 29,
   "metadata": {},
   "outputs": [],
   "source": [
    "from bs4 import BeautifulSoup\n",
    "\n",
    "driver.switch_to.window(driver.window_handles[0])\n",
    "html = driver.page_source\n",
    "soup = BeautifulSoup(html, 'html.parser')"
   ]
  },
  {
   "cell_type": "code",
   "execution_count": 28,
   "metadata": {},
   "outputs": [
    {
     "data": {
      "text/plain": [
       "'76B659795C15F8ECC93B148B2105F08A'"
      ]
     },
     "execution_count": 28,
     "metadata": {},
     "output_type": "execute_result"
    }
   ],
   "source": [
    "driver.window_handles[0]"
   ]
  },
  {
   "cell_type": "code",
   "execution_count": 31,
   "metadata": {},
   "outputs": [
    {
     "name": "stdout",
     "output_type": "stream",
     "text": [
      "May 20, 2020\n",
      "Myth Busting, Popular Delusions, and the Variant Perception\n"
     ]
    }
   ],
   "source": [
    "DATE_CLASS = \"insightHeaderTextRegular text-uppercase customColor insightDateColor\"\n",
    "TITLE_CLASS = \"heroProductName equalSpace noMargin customColor\"\n",
    "\n",
    "print(soup.find(class_=DATE_CLASS).text.strip())\n",
    "print(soup.find(class_=TITLE_CLASS).text.strip())"
   ]
  },
  {
   "cell_type": "code",
   "execution_count": 32,
   "metadata": {},
   "outputs": [
    {
     "name": "stdout",
     "output_type": "stream",
     "text": [
      "We address four myths or popular delusions in the investment industry:\n",
      "\n",
      "Short-termism is rampant and deleterious: We hear this argument made a lot but often without concrete evidence, so we critically examine some of the claims to see if they hold up;\n",
      "Dividends play a large role in equity returns over time: We show that price appreciation is the only source of investment return that increases accumulated capital;\n",
      "Investing in money-losing companies is a bad idea: This is too simplistic, as some money-losing companies may still have attractive economics; and\n",
      "The rise of indexing has made it easier to be an active manager: If the investors who have turned to indexing tend to be less skillful, the remaining investors are left competing against stronger competition, making it harder to generate alpha.\n"
     ]
    }
   ],
   "source": [
    "print(soup.find(class_=\"blockText\").text.strip())"
   ]
  },
  {
   "cell_type": "code",
   "execution_count": 39,
   "metadata": {},
   "outputs": [],
   "source": [
    "PDF_CLASS = \"buttoncomponent left custom-btn btn btn-default btn-lg\"\n",
    "driver.switch_to.window(driver.window_handles[0])\n",
    "pdf_link = driver.find_element(By.CLASS_NAME, PDF_CLASS.replace(\" \", \".\"))"
   ]
  },
  {
   "cell_type": "code",
   "execution_count": 41,
   "metadata": {},
   "outputs": [
    {
     "data": {
      "text/plain": [
       "'https://www.morganstanley.com/im/publication/insights/articles/article_mythbustingpopulardelusions_en.pdf?1736836675831'"
      ]
     },
     "execution_count": 41,
     "metadata": {},
     "output_type": "execute_result"
    }
   ],
   "source": [
    "pdf_link.get_attribute(\"href\")"
   ]
  },
  {
   "cell_type": "code",
   "execution_count": 2,
   "metadata": {},
   "outputs": [
    {
     "name": "stdout",
     "output_type": "stream",
     "text": [
      "\u001b[?25l\u001b[32m⠋\u001b[0m Initializing ZenML repository at \n",
      "/Users/athekunal/Desktop/LLM-Engineering/Michael-J.-Mauboussin-Twin/src.\n",
      "\u001b[1;35mSetting the repo active workspace to 'default'.\u001b[0m\n",
      "\u001b[33mSetting the repo active stack to default.\u001b[0m\n",
      "\u001b[2K\u001b[1A\u001b[2K\u001b[1A\u001b[2K\u001b[2;36mZenML repository initialized at \u001b[0m\n",
      "\u001b[2;35m/Users/athekunal/Desktop/LLM-Engineering/Michael-J.-Mauboussin-Twin/\u001b[0m\u001b[2;95msrc.\u001b[0m\n",
      "\u001b[2;32m⠋\u001b[0m\u001b[2;36m Initializing ZenML repository at \u001b[0m\n",
      "\u001b[2;36m/Users/athekunal/Desktop/LLM-Engineering/Michael-J.-Mauboussin-Twin/src.\u001b[0m\n",
      "\u001b[2K\u001b[1A\u001b[2K\u001b[1A\u001b[2K\u001b[32m⠋\u001b[0m Initializing ZenML repository at \n",
      "/Users/athekunal/Desktop/LLM-Engineering/Michael-J.-Mauboussin-Twin/src.\n",
      "\n",
      "\u001b[1A\u001b[2K\u001b[1A\u001b[2K\u001b[1A\u001b[2K\u001b[2;36mThe local active stack was initialized to \u001b[0m\u001b[2;32m'default'\u001b[0m\u001b[2;36m. This local configuration \u001b[0m\n",
      "\u001b[2;36mwill only take effect when you're running ZenML from the initialized repository \u001b[0m\n",
      "\u001b[2;36mroot, or from a subdirectory. For more information on repositories and \u001b[0m\n",
      "\u001b[2;36mconfigurations, please visit \u001b[0m\n",
      "\u001b[2;4;94mhttps://docs.zenml.io/user-guide/production-guide/understand-stacks.\u001b[0m\n"
     ]
    }
   ],
   "source": [
    "import zenml\n",
    "\n",
    "!zenml init"
   ]
  },
  {
   "cell_type": "code",
   "execution_count": 1,
   "metadata": {},
   "outputs": [
    {
     "name": "stdout",
     "output_type": "stream",
     "text": [
      "\u001b[1;35mRunning single step pipeline to execute step \u001b[0m\u001b[1;36mextraction_data\u001b[1;35m\u001b[0m\n",
      "\u001b[1;35mInitiating a new run for the pipeline: \u001b[0m\u001b[1;36mextraction_data\u001b[1;35m.\u001b[0m\n",
      "\u001b[1;35mCaching is disabled by default for \u001b[0m\u001b[1;36mextraction_data\u001b[1;35m.\u001b[0m\n",
      "\u001b[1;35mUsing user: \u001b[0m\u001b[1;36mdefault\u001b[1;35m\u001b[0m\n",
      "\u001b[1;35mUsing stack: \u001b[0m\u001b[1;36mdefault\u001b[1;35m\u001b[0m\n",
      "\u001b[1;35m  artifact_store: \u001b[0m\u001b[1;36mdefault\u001b[1;35m\u001b[0m\n",
      "\u001b[1;35m  orchestrator: \u001b[0m\u001b[1;36mdefault\u001b[1;35m\u001b[0m\n",
      "\u001b[1;35mYou can visualize your pipeline runs in the \u001b[0m\u001b[1;36mZenML Dashboard\u001b[1;35m. In order to try it locally, please run \u001b[0m\u001b[1;36mzenml login --local\u001b[1;35m.\u001b[0m\n",
      "\u001b[1;35mStep \u001b[0m\u001b[1;36mextraction_data\u001b[1;35m has started.\u001b[0m\n",
      "\u001b[32m2025-01-18 18:36:03.106\u001b[0m | \u001b[1mINFO    \u001b[0m | \u001b[36mmichael_mauboussin_twin.feature.extract.web\u001b[0m:\u001b[36mpdf_data_save\u001b[0m:\u001b[36m76\u001b[0m - \u001b[1mDownloaded PDF Research, Articles and Interviews (1995-2004) to michael_mauboussin_twin/feature/extract/data/Research__Articles_and_Interviews__1995-2004_.pdf\u001b[0m\n",
      "\u001b[32m2025-01-18 18:36:04.195\u001b[0m | \u001b[1mINFO    \u001b[0m | \u001b[36mmichael_mauboussin_twin.feature.extract.web\u001b[0m:\u001b[36mpdf_data_save\u001b[0m:\u001b[36m76\u001b[0m - \u001b[1mDownloaded PDF Research, Articles and Interviews (2005-2011) to michael_mauboussin_twin/feature/extract/data/Research__Articles_and_Interviews__2005-2011_.pdf\u001b[0m\n",
      "\u001b[32m2025-01-18 18:36:05.174\u001b[0m | \u001b[1mINFO    \u001b[0m | \u001b[36mmichael_mauboussin_twin.feature.extract.web\u001b[0m:\u001b[36mpdf_data_save\u001b[0m:\u001b[36m76\u001b[0m - \u001b[1mDownloaded PDF Research, Articles and Interviews (2012-2013) to michael_mauboussin_twin/feature/extract/data/Research__Articles_and_Interviews__2012-2013_.pdf\u001b[0m\n",
      "\u001b[32m2025-01-18 18:36:06.500\u001b[0m | \u001b[1mINFO    \u001b[0m | \u001b[36mmichael_mauboussin_twin.feature.extract.web\u001b[0m:\u001b[36mpdf_data_save\u001b[0m:\u001b[36m76\u001b[0m - \u001b[1mDownloaded PDF Research, Articles and Interviews (2014) to michael_mauboussin_twin/feature/extract/data/Research__Articles_and_Interviews__2014_.pdf\u001b[0m\n",
      "\u001b[32m2025-01-18 18:36:07.635\u001b[0m | \u001b[1mINFO    \u001b[0m | \u001b[36mmichael_mauboussin_twin.feature.extract.web\u001b[0m:\u001b[36mpdf_data_save\u001b[0m:\u001b[36m76\u001b[0m - \u001b[1mDownloaded PDF Research, Articles and Interviews (2015-2016)  to michael_mauboussin_twin/feature/extract/data/Research__Articles_and_Interviews__2015-2016__.pdf\u001b[0m\n",
      "\u001b[32m2025-01-18 18:36:08.812\u001b[0m | \u001b[1mINFO    \u001b[0m | \u001b[36mmichael_mauboussin_twin.feature.extract.web\u001b[0m:\u001b[36mpdf_data_save\u001b[0m:\u001b[36m76\u001b[0m - \u001b[1mDownloaded PDF Research, Articles and Interviews (2016) to michael_mauboussin_twin/feature/extract/data/Research__Articles_and_Interviews__2016_.pdf\u001b[0m\n",
      "\u001b[32m2025-01-18 18:36:10.074\u001b[0m | \u001b[1mINFO    \u001b[0m | \u001b[36mmichael_mauboussin_twin.feature.extract.web\u001b[0m:\u001b[36mpdf_data_save\u001b[0m:\u001b[36m76\u001b[0m - \u001b[1mDownloaded PDF Research, Articles and Interviews (2017-2020) to michael_mauboussin_twin/feature/extract/data/Research__Articles_and_Interviews__2017-2020_.pdf\u001b[0m\n",
      "\u001b[1;35m====== WebDriver manager ======\u001b[0m\n",
      "\u001b[1;35mGet LATEST chromedriver version for google-chrome\u001b[0m\n",
      "\u001b[1;35mGet LATEST chromedriver version for google-chrome\u001b[0m\n",
      "\u001b[1;35mDriver [/Users/athekunal/.wdm/drivers/chromedriver/mac64/132.0.6834.83/chromedriver-mac-arm64/chromedriver] found in cache\u001b[0m\n",
      "\u001b[32m2025-01-18 18:36:20.169\u001b[0m | \u001b[1mINFO    \u001b[0m | \u001b[36mmichael_mauboussin_twin.feature.extract.scrape\u001b[0m:\u001b[36m_extract_pdf\u001b[0m:\u001b[36m69\u001b[0m - \u001b[1mDownloaded PDF BIN_There,_Done_That to michael_mauboussin_twin/feature/extract/data/BIN_There,_Done_That.pdf\u001b[0m\n",
      "\u001b[32m2025-01-18 18:36:20.999\u001b[0m | \u001b[1mINFO    \u001b[0m | \u001b[36mmichael_mauboussin_twin.feature.extract.scrape\u001b[0m:\u001b[36m_extract_pdf\u001b[0m:\u001b[36m69\u001b[0m - \u001b[1mDownloaded PDF Dispersion_and_Alpha_Conversion to michael_mauboussin_twin/feature/extract/data/Dispersion_and_Alpha_Conversion.pdf\u001b[0m\n",
      "\u001b[32m2025-01-18 18:36:21.651\u001b[0m | \u001b[1mINFO    \u001b[0m | \u001b[36mmichael_mauboussin_twin.feature.extract.scrape\u001b[0m:\u001b[36m_extract_pdf\u001b[0m:\u001b[36m69\u001b[0m - \u001b[1mDownloaded PDF Myth_Busting,_Popular_Delusions,_and_the_Variant_Perception to michael_mauboussin_twin/feature/extract/data/Myth_Busting,_Popular_Delusions,_and_the_Variant_Perception.pdf\u001b[0m\n"
     ]
    }
   ],
   "source": [
    "from michael_mauboussin_twin.feature.extract import extract_data\n",
    "\n",
    "o = extract_data.extraction_data()\n",
    "o[0]"
   ]
  },
  {
   "cell_type": "code",
   "execution_count": null,
   "metadata": {},
   "outputs": [],
   "source": []
  }
 ],
 "metadata": {
  "kernelspec": {
   "display_name": ".venv",
   "language": "python",
   "name": "python3"
  },
  "language_info": {
   "codemirror_mode": {
    "name": "ipython",
    "version": 3
   },
   "file_extension": ".py",
   "mimetype": "text/x-python",
   "name": "python",
   "nbconvert_exporter": "python",
   "pygments_lexer": "ipython3",
   "version": "3.11.3"
  }
 },
 "nbformat": 4,
 "nbformat_minor": 2
}
