{
 "cells": [
  {
   "cell_type": "code",
   "execution_count": 1,
   "metadata": {},
   "outputs": [],
   "source": [
    "import requests\n",
    "from bs4 import BeautifulSoup\n",
    "\n",
    "URL = \"https://www.michaelmauboussin.com/writing\"\n",
    "\n",
    "response = requests.get(URL)\n",
    "soup = BeautifulSoup(response.text, 'html.parser')"
   ]
  },
  {
   "cell_type": "code",
   "execution_count": 6,
   "metadata": {},
   "outputs": [
    {
     "name": "stdout",
     "output_type": "stream",
     "text": [
      "<div class=\"sqs-html-content\">\n",
      "<ul data-rte-list=\"default\"><li><pre><code><a href=\"https://mjbaldbard.files.wordpress.com/2020/09/michael-mauboussin-e28093-research-articles-and-interviews-1995-2004.pdf\">Research, Articles and Interviews (1995-2004)</a> </code></pre></li><li><pre><code><a href=\"https://mjbaldbard.files.wordpress.com/2020/09/michael-mauboussin-e28093-research-articles-and-interviews-2005-2011.pdf\">Research, Articles and Interviews (2005-2011)</a> </code></pre></li><li><pre><code><a href=\"https://mjbaldbard.files.wordpress.com/2020/09/michael-mauboussin-e28093-research-articles-and-interviews-2012-2013.pdf\">Research, Articles and Interviews (2012-2013)</a> </code></pre></li><li><pre><code><a href=\"https://mjbaldbard.files.wordpress.com/2020/09/michael-mauboussin-e28093-research-articles-and-interviews-2014.pdf\">Research, Articles and Interviews (2014)</a> </code></pre></li><li><pre><code><a href=\"https://mjbaldbard.files.wordpress.com/2020/09/michael-mauboussin-e28093-base-rate-books-2015-2016.pdf\">Base Rate Books (2015-2016)</a> </code></pre></li><li><pre><code><a href=\"https://mjbaldbard.files.wordpress.com/2020/09/michael-mauboussin-e28093-research-articles-and-interviews-2015-2016.pdf\">Research, Articles and Interviews (2015-2016) </a></code></pre></li><li><pre><code><a href=\"https://mjbaldbard.files.wordpress.com/2020/09/michael-mauboussin-e28093-research-articles-and-interviews-2016.pdf\">Research, Articles and Interviews (2016)</a> </code></pre></li><li><pre><code><a href=\"https://mjbaldbard.files.wordpress.com/2020/09/michael-mauboussin-e28093-research-articles-and-interviews-2017-2020-1.pdf\">Research, Articles and Interviews (2017-2020)</a> </code></pre></li><li><pre><code><a href=\"https://www.morganstanley.com/im/en-us/financial-advisor/insights/series/consilient-observer.html\">The Consilient Observer (2020 - present)</a> </code></pre><p class=\"sqsrte-small\" style=\"white-space:pre-wrap;\"><br/>*Thanks to <a href=\"https://mjbaldbard.Wordpress.com\">Mayur Jain</a> for assembling these materials (View him on <a href=\"https://twitter.com/mjbaldbard\">Twitter</a>)</p></li></ul><p class=\"\" data-rte-preserve-empty=\"true\" style=\"white-space:pre-wrap;\"></p>\n",
      "</div>\n"
     ]
    }
   ],
   "source": [
    "data = soup.find_all(class_=\"sqs-html-content\")[-2]\n",
    "print(data)"
   ]
  },
  {
   "cell_type": "code",
   "execution_count": 15,
   "metadata": {},
   "outputs": [
    {
     "data": {
      "text/plain": [
       "bs4.element.Tag"
      ]
     },
     "execution_count": 15,
     "metadata": {},
     "output_type": "execute_result"
    }
   ],
   "source": [
    "type(data.find_all('a')[1])"
   ]
  },
  {
   "cell_type": "code",
   "execution_count": 17,
   "metadata": {},
   "outputs": [
    {
     "data": {
      "text/plain": [
       "'Research, Articles and Interviews (2005-2011)'"
      ]
     },
     "execution_count": 17,
     "metadata": {},
     "output_type": "execute_result"
    }
   ],
   "source": [
    "data.find_all('a')[1].text"
   ]
  },
  {
   "cell_type": "code",
   "execution_count": null,
   "metadata": {},
   "outputs": [],
   "source": [
    "# https://www.morganstanley.com/im/publication/insights/articles/article_chartsfromthevaultpicturestoponder.pdf?1736712102328\n",
    "# https://www.morganstanley.com/im/publication/insights/articles/article_measuringthemoat.pdf?1736712206119"
   ]
  },
  {
   "cell_type": "code",
   "execution_count": null,
   "metadata": {},
   "outputs": [],
   "source": [
    "# col-md-8 col-sm-12 col-xs-12\n",
    "\n"
   ]
  },
  {
   "cell_type": "code",
   "execution_count": 20,
   "metadata": {},
   "outputs": [],
   "source": [
    "from selenium import webdriver\n",
    "from webdriver_manager.chrome import ChromeDriverManager\n",
    "from selenium.webdriver.chrome.service import Service\n",
    "from selenium.webdriver.common.by import By\n",
    "\n",
    "driver = webdriver.Chrome(service=Service(ChromeDriverManager().install()))"
   ]
  },
  {
   "cell_type": "code",
   "execution_count": 33,
   "metadata": {},
   "outputs": [
    {
     "data": {
      "text/plain": [
       "selenium.webdriver.chrome.webdriver.WebDriver"
      ]
     },
     "execution_count": 33,
     "metadata": {},
     "output_type": "execute_result"
    }
   ],
   "source": [
    "type(driver)"
   ]
  },
  {
   "cell_type": "code",
   "execution_count": 21,
   "metadata": {},
   "outputs": [],
   "source": [
    "URL = \"https://www.morganstanley.com/im/en-us/financial-advisor/insights/series/consilient-observer.html\"\n",
    "\n",
    "driver.get(URL)"
   ]
  },
  {
   "cell_type": "code",
   "execution_count": 22,
   "metadata": {},
   "outputs": [],
   "source": [
    "driver.maximize_window()"
   ]
  },
  {
   "cell_type": "code",
   "execution_count": 23,
   "metadata": {},
   "outputs": [],
   "source": [
    "# Get all article links\n",
    "articles = driver.find_elements(By.CSS_SELECTOR, \".series-detail-articles a\")\n",
    "\n",
    "# Create a set to track unique URLs\n",
    "seen_urls = set()\n",
    "\n",
    "for article in articles:\n",
    "    url = article.get_attribute('href')\n",
    "    # Only open if we haven't seen this URL before\n",
    "    if url not in seen_urls:\n",
    "        # Open in new tab using JavaScript since it handles dynamic content better\n",
    "        driver.execute_script(\"window.open(arguments[0], '_blank');\", url)\n",
    "        seen_urls.add(url)"
   ]
  },
  {
   "cell_type": "code",
   "execution_count": 24,
   "metadata": {},
   "outputs": [],
   "source": [
    "# Switch to each tab and close it\n",
    "tabs = driver.window_handles\n",
    "driver.switch_to.window(driver.window_handles[0])\n",
    "driver.close()"
   ]
  },
  {
   "cell_type": "code",
   "execution_count": 29,
   "metadata": {},
   "outputs": [],
   "source": [
    "from bs4 import BeautifulSoup\n",
    "\n",
    "driver.switch_to.window(driver.window_handles[0])\n",
    "html = driver.page_source\n",
    "soup = BeautifulSoup(html, 'html.parser')"
   ]
  },
  {
   "cell_type": "code",
   "execution_count": 28,
   "metadata": {},
   "outputs": [
    {
     "data": {
      "text/plain": [
       "'76B659795C15F8ECC93B148B2105F08A'"
      ]
     },
     "execution_count": 28,
     "metadata": {},
     "output_type": "execute_result"
    }
   ],
   "source": [
    "driver.window_handles[0]"
   ]
  },
  {
   "cell_type": "code",
   "execution_count": 31,
   "metadata": {},
   "outputs": [
    {
     "name": "stdout",
     "output_type": "stream",
     "text": [
      "May 20, 2020\n",
      "Myth Busting, Popular Delusions, and the Variant Perception\n"
     ]
    }
   ],
   "source": [
    "DATE_CLASS = \"insightHeaderTextRegular text-uppercase customColor insightDateColor\"\n",
    "TITLE_CLASS = \"heroProductName equalSpace noMargin customColor\"\n",
    "\n",
    "print(soup.find(class_=DATE_CLASS).text.strip())\n",
    "print(soup.find(class_=TITLE_CLASS).text.strip())"
   ]
  },
  {
   "cell_type": "code",
   "execution_count": 32,
   "metadata": {},
   "outputs": [
    {
     "name": "stdout",
     "output_type": "stream",
     "text": [
      "We address four myths or popular delusions in the investment industry:\n",
      "\n",
      "Short-termism is rampant and deleterious: We hear this argument made a lot but often without concrete evidence, so we critically examine some of the claims to see if they hold up;\n",
      "Dividends play a large role in equity returns over time: We show that price appreciation is the only source of investment return that increases accumulated capital;\n",
      "Investing in money-losing companies is a bad idea: This is too simplistic, as some money-losing companies may still have attractive economics; and\n",
      "The rise of indexing has made it easier to be an active manager: If the investors who have turned to indexing tend to be less skillful, the remaining investors are left competing against stronger competition, making it harder to generate alpha.\n"
     ]
    }
   ],
   "source": [
    "print(soup.find(class_=\"blockText\").text.strip())"
   ]
  },
  {
   "cell_type": "code",
   "execution_count": 36,
   "metadata": {},
   "outputs": [
    {
     "ename": "NoSuchElementException",
     "evalue": "Message: no such element: Unable to locate element: {\"method\":\"css selector\",\"selector\":\".buttoncomponent left custom-btn btn btn-default btn-lg\"}\n  (Session info: chrome=131.0.6778.265); For documentation on this error, please visit: https://www.selenium.dev/documentation/webdriver/troubleshooting/errors#no-such-element-exception\nStacktrace:\n0   chromedriver                        0x000000010088e138 cxxbridge1$str$ptr + 3653888\n1   chromedriver                        0x0000000100886988 cxxbridge1$str$ptr + 3623248\n2   chromedriver                        0x00000001002ec968 cxxbridge1$string$len + 89228\n3   chromedriver                        0x0000000100330d4c cxxbridge1$string$len + 368752\n4   chromedriver                        0x000000010036a4f0 cxxbridge1$string$len + 604180\n5   chromedriver                        0x0000000100325564 cxxbridge1$string$len + 321672\n6   chromedriver                        0x00000001003261b4 cxxbridge1$string$len + 324824\n7   chromedriver                        0x0000000100858fc0 cxxbridge1$str$ptr + 3436424\n8   chromedriver                        0x000000010085c2dc cxxbridge1$str$ptr + 3449508\n9   chromedriver                        0x000000010083fe60 cxxbridge1$str$ptr + 3333672\n10  chromedriver                        0x000000010085cb9c cxxbridge1$str$ptr + 3451748\n11  chromedriver                        0x0000000100831678 cxxbridge1$str$ptr + 3274304\n12  chromedriver                        0x00000001008772b4 cxxbridge1$str$ptr + 3560060\n13  chromedriver                        0x0000000100877430 cxxbridge1$str$ptr + 3560440\n14  chromedriver                        0x00000001008865fc cxxbridge1$str$ptr + 3622340\n15  libsystem_pthread.dylib             0x00000001ac3b426c _pthread_start + 148\n16  libsystem_pthread.dylib             0x00000001ac3af08c thread_start + 8\n",
     "output_type": "error",
     "traceback": [
      "\u001b[0;31m---------------------------------------------------------------------------\u001b[0m",
      "\u001b[0;31mNoSuchElementException\u001b[0m                    Traceback (most recent call last)",
      "Cell \u001b[0;32mIn[36], line 3\u001b[0m\n\u001b[1;32m      1\u001b[0m PDF_CLASS \u001b[38;5;241m=\u001b[39m \u001b[38;5;124m\"\u001b[39m\u001b[38;5;124mbuttoncomponent left custom-btn btn btn-default btn-lg\u001b[39m\u001b[38;5;124m\"\u001b[39m\n\u001b[1;32m      2\u001b[0m driver\u001b[38;5;241m.\u001b[39mswitch_to\u001b[38;5;241m.\u001b[39mwindow(driver\u001b[38;5;241m.\u001b[39mwindow_handles[\u001b[38;5;241m0\u001b[39m])\n\u001b[0;32m----> 3\u001b[0m pdf_link \u001b[38;5;241m=\u001b[39m \u001b[43mdriver\u001b[49m\u001b[38;5;241;43m.\u001b[39;49m\u001b[43mfind_element\u001b[49m\u001b[43m(\u001b[49m\u001b[43mBy\u001b[49m\u001b[38;5;241;43m.\u001b[39;49m\u001b[43mCLASS_NAME\u001b[49m\u001b[43m,\u001b[49m\u001b[43m \u001b[49m\u001b[43mPDF_CLASS\u001b[49m\u001b[43m)\u001b[49m\n\u001b[1;32m      4\u001b[0m pdf_link\u001b[38;5;241m.\u001b[39mclick()\n",
      "File \u001b[0;32m~/Desktop/LLM-Engineering/Michael-J.-Mauboussin-Twin/.venv/lib/python3.13/site-packages/selenium/webdriver/remote/webdriver.py:770\u001b[0m, in \u001b[0;36mWebDriver.find_element\u001b[0;34m(self, by, value)\u001b[0m\n\u001b[1;32m    767\u001b[0m         \u001b[38;5;28;01mraise\u001b[39;00m NoSuchElementException(\u001b[38;5;124mf\u001b[39m\u001b[38;5;124m\"\u001b[39m\u001b[38;5;124mCannot locate relative element with: \u001b[39m\u001b[38;5;132;01m{\u001b[39;00mby\u001b[38;5;241m.\u001b[39mroot\u001b[38;5;132;01m}\u001b[39;00m\u001b[38;5;124m\"\u001b[39m)\n\u001b[1;32m    768\u001b[0m     \u001b[38;5;28;01mreturn\u001b[39;00m elements[\u001b[38;5;241m0\u001b[39m]\n\u001b[0;32m--> 770\u001b[0m \u001b[38;5;28;01mreturn\u001b[39;00m \u001b[38;5;28;43mself\u001b[39;49m\u001b[38;5;241;43m.\u001b[39;49m\u001b[43mexecute\u001b[49m\u001b[43m(\u001b[49m\u001b[43mCommand\u001b[49m\u001b[38;5;241;43m.\u001b[39;49m\u001b[43mFIND_ELEMENT\u001b[49m\u001b[43m,\u001b[49m\u001b[43m \u001b[49m\u001b[43m{\u001b[49m\u001b[38;5;124;43m\"\u001b[39;49m\u001b[38;5;124;43musing\u001b[39;49m\u001b[38;5;124;43m\"\u001b[39;49m\u001b[43m:\u001b[49m\u001b[43m \u001b[49m\u001b[43mby\u001b[49m\u001b[43m,\u001b[49m\u001b[43m \u001b[49m\u001b[38;5;124;43m\"\u001b[39;49m\u001b[38;5;124;43mvalue\u001b[39;49m\u001b[38;5;124;43m\"\u001b[39;49m\u001b[43m:\u001b[49m\u001b[43m \u001b[49m\u001b[43mvalue\u001b[49m\u001b[43m}\u001b[49m\u001b[43m)\u001b[49m[\u001b[38;5;124m\"\u001b[39m\u001b[38;5;124mvalue\u001b[39m\u001b[38;5;124m\"\u001b[39m]\n",
      "File \u001b[0;32m~/Desktop/LLM-Engineering/Michael-J.-Mauboussin-Twin/.venv/lib/python3.13/site-packages/selenium/webdriver/remote/webdriver.py:384\u001b[0m, in \u001b[0;36mWebDriver.execute\u001b[0;34m(self, driver_command, params)\u001b[0m\n\u001b[1;32m    382\u001b[0m response \u001b[38;5;241m=\u001b[39m \u001b[38;5;28mself\u001b[39m\u001b[38;5;241m.\u001b[39mcommand_executor\u001b[38;5;241m.\u001b[39mexecute(driver_command, params)\n\u001b[1;32m    383\u001b[0m \u001b[38;5;28;01mif\u001b[39;00m response:\n\u001b[0;32m--> 384\u001b[0m     \u001b[38;5;28;43mself\u001b[39;49m\u001b[38;5;241;43m.\u001b[39;49m\u001b[43merror_handler\u001b[49m\u001b[38;5;241;43m.\u001b[39;49m\u001b[43mcheck_response\u001b[49m\u001b[43m(\u001b[49m\u001b[43mresponse\u001b[49m\u001b[43m)\u001b[49m\n\u001b[1;32m    385\u001b[0m     response[\u001b[38;5;124m\"\u001b[39m\u001b[38;5;124mvalue\u001b[39m\u001b[38;5;124m\"\u001b[39m] \u001b[38;5;241m=\u001b[39m \u001b[38;5;28mself\u001b[39m\u001b[38;5;241m.\u001b[39m_unwrap_value(response\u001b[38;5;241m.\u001b[39mget(\u001b[38;5;124m\"\u001b[39m\u001b[38;5;124mvalue\u001b[39m\u001b[38;5;124m\"\u001b[39m, \u001b[38;5;28;01mNone\u001b[39;00m))\n\u001b[1;32m    386\u001b[0m     \u001b[38;5;28;01mreturn\u001b[39;00m response\n",
      "File \u001b[0;32m~/Desktop/LLM-Engineering/Michael-J.-Mauboussin-Twin/.venv/lib/python3.13/site-packages/selenium/webdriver/remote/errorhandler.py:232\u001b[0m, in \u001b[0;36mErrorHandler.check_response\u001b[0;34m(self, response)\u001b[0m\n\u001b[1;32m    230\u001b[0m         alert_text \u001b[38;5;241m=\u001b[39m value[\u001b[38;5;124m\"\u001b[39m\u001b[38;5;124malert\u001b[39m\u001b[38;5;124m\"\u001b[39m]\u001b[38;5;241m.\u001b[39mget(\u001b[38;5;124m\"\u001b[39m\u001b[38;5;124mtext\u001b[39m\u001b[38;5;124m\"\u001b[39m)\n\u001b[1;32m    231\u001b[0m     \u001b[38;5;28;01mraise\u001b[39;00m exception_class(message, screen, stacktrace, alert_text)  \u001b[38;5;66;03m# type: ignore[call-arg]  # mypy is not smart enough here\u001b[39;00m\n\u001b[0;32m--> 232\u001b[0m \u001b[38;5;28;01mraise\u001b[39;00m exception_class(message, screen, stacktrace)\n",
      "\u001b[0;31mNoSuchElementException\u001b[0m: Message: no such element: Unable to locate element: {\"method\":\"css selector\",\"selector\":\".buttoncomponent left custom-btn btn btn-default btn-lg\"}\n  (Session info: chrome=131.0.6778.265); For documentation on this error, please visit: https://www.selenium.dev/documentation/webdriver/troubleshooting/errors#no-such-element-exception\nStacktrace:\n0   chromedriver                        0x000000010088e138 cxxbridge1$str$ptr + 3653888\n1   chromedriver                        0x0000000100886988 cxxbridge1$str$ptr + 3623248\n2   chromedriver                        0x00000001002ec968 cxxbridge1$string$len + 89228\n3   chromedriver                        0x0000000100330d4c cxxbridge1$string$len + 368752\n4   chromedriver                        0x000000010036a4f0 cxxbridge1$string$len + 604180\n5   chromedriver                        0x0000000100325564 cxxbridge1$string$len + 321672\n6   chromedriver                        0x00000001003261b4 cxxbridge1$string$len + 324824\n7   chromedriver                        0x0000000100858fc0 cxxbridge1$str$ptr + 3436424\n8   chromedriver                        0x000000010085c2dc cxxbridge1$str$ptr + 3449508\n9   chromedriver                        0x000000010083fe60 cxxbridge1$str$ptr + 3333672\n10  chromedriver                        0x000000010085cb9c cxxbridge1$str$ptr + 3451748\n11  chromedriver                        0x0000000100831678 cxxbridge1$str$ptr + 3274304\n12  chromedriver                        0x00000001008772b4 cxxbridge1$str$ptr + 3560060\n13  chromedriver                        0x0000000100877430 cxxbridge1$str$ptr + 3560440\n14  chromedriver                        0x00000001008865fc cxxbridge1$str$ptr + 3622340\n15  libsystem_pthread.dylib             0x00000001ac3b426c _pthread_start + 148\n16  libsystem_pthread.dylib             0x00000001ac3af08c thread_start + 8\n"
     ]
    }
   ],
   "source": [
    "PDF_CLASS = \"buttoncomponent left custom-btn btn btn-default btn-lg\"\n",
    "driver.switch_to.window(driver.window_handles[0])\n",
    "pdf_link = driver.find_element(By.CLASS_NAME, PDF_CLASS)\n",
    "pdf_link.click()\n"
   ]
  },
  {
   "cell_type": "code",
   "execution_count": null,
   "metadata": {},
   "outputs": [],
   "source": []
  }
 ],
 "metadata": {
  "kernelspec": {
   "display_name": ".venv",
   "language": "python",
   "name": "python3"
  },
  "language_info": {
   "codemirror_mode": {
    "name": "ipython",
    "version": 3
   },
   "file_extension": ".py",
   "mimetype": "text/x-python",
   "name": "python",
   "nbconvert_exporter": "python",
   "pygments_lexer": "ipython3",
   "version": "3.13.1"
  }
 },
 "nbformat": 4,
 "nbformat_minor": 2
}
